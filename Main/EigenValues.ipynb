{
 "cells": [
  {
   "cell_type": "code",
   "execution_count": 1,
   "metadata": {},
   "outputs": [],
   "source": [
    " %matplotlib inline\n",
    "import numpy as np\n",
    "import matplotlib.pyplot as plt\n",
    "import matplotlib as mpl\n",
    "\n",
    "from numpy import sqrt,sin, cos, pi,tan"
   ]
  },
  {
   "cell_type": "code",
   "execution_count": 2,
   "metadata": {},
   "outputs": [],
   "source": [
    "from qutip import *"
   ]
  },
  {
   "cell_type": "markdown",
   "metadata": {},
   "source": [
    "# Representing H in a Generalized Rabi form"
   ]
  },
  {
   "cell_type": "markdown",
   "metadata": {},
   "source": [
    "## Energy levels for $H_{GR}$"
   ]
  },
  {
   "cell_type": "markdown",
   "metadata": {},
   "source": [
    "Energy for H in a case that n=1 \n",
    "$$\n",
    "\\hat{H}^{(n)} = (n-\\frac{1}{2})\\omega_c \\mathbb{1} + \\sqrt{\\frac{\\Delta^2_{ac}}{4}+ng^2_{ac}} \\sigma_z^{(n)}\n",
    "- g_{cm}(n-\\frac{1}{2})(\\hat{b}+\\hat{b}^\\dagger) -  \\frac{1}{2} \\tilde{g}_{pm} \\Big [ sin\\phi^{(n)} \\sigma_x^{(n)}+ cos\\phi^{(n)}\\sigma_z^{(n)}\\Big ]\n",
    "(\\hat{b}+\\hat{b}^\\dagger) + \\omega_m \\hat{b}^\\dagger \\hat{b}\n",
    "$$\n",
    "\n",
    "Lets write this hamiltonian in the form of Generelized Rabi\n",
    "$$\n",
    "\\large {\n",
    "\\hat{H}_{GR}= \\omega \\hat{b}^\\dagger \\hat{b}+ g \\hat{\\sigma}_x (\\hat{b}+ \\hat{b}^\\dagger) + \\epsilon \\sigma_x + \\Delta \\sigma_z\n",
    "}\n",
    "$$\n",
    "\n",
    "\n",
    "by defining these expressions\n",
    "$\n",
    "g=- \\dfrac{1}{2} \\tilde{g}_{pm}~,~~~~~~~~~ \\Delta= \\sqrt{\\dfrac{\\Delta^2_{ac}}{4}+ng^2_{ac}}~~sin(\\phi) \n",
    "~,~~~~~~~~~  \\epsilon= \\sqrt{\\dfrac{\\Delta^2_{ac}}{4}+ng^2_{ac}}~~cos(\\phi)+ \\dfrac{g_{cm}{g}_{pm}}{\\omega_m}(n-\\dfrac{1}{2})\n",
    "$\n",
    "\n",
    "$\\tilde{g}_{pm}= g_{cm}-2g_{am}$"
   ]
  },
  {
   "cell_type": "code",
   "execution_count": 3,
   "metadata": {},
   "outputs": [],
   "source": [
    "\n",
    "def Energy_compute(Nm, theta, g_ac, g_am, g_cm, delta_ac, omega, n, g_cmlist):\n",
    "\n",
    "    wm= omega\n",
    "    wc = 100 *wm\n",
    "    wa= delta_ac + wc\n",
    "    #wa=wc                  # resonance\n",
    "\n",
    "    b = tensor(destroy(Nm), qeye(2))      # phonon anihilation opr\n",
    "\n",
    "    sigma_z = tensor(qeye(Nm), sigmaz())\n",
    "    sigma_x = tensor(qeye(Nm), sigmax())\n",
    "\n",
    "    I = tensor(identity(Nm), identity(2))\n",
    "   #######careful    basis(2,1) is ground state?!  Sakurai pg. 23\n",
    "   #============== in the rotated frame\n",
    "\n",
    "   ##careful! when we go to pauli rotating frame a (theta-pi/2) substitution is done too\n",
    "   # as consecuence e.g. tan(theta)---->-cot(theta) and sin(theta)----> -cos(theta)\n",
    "    newsigma_z =   sigma_x * sin(theta) + sigma_z * cos(theta)\n",
    "    newsigma_x = - sigma_x * cos(theta) + sigma_z * sin(theta)\n",
    "####whai if both n and delta+ac eual to zero?!\n",
    "\n",
    "    evals_mt = np.zeros((len(g_cmlist), Nm*2))\n",
    "    \n",
    "    idx=0\n",
    "    for gcm in g_cmlist:\n",
    "        \n",
    "        g=-1/2 * (gcm - 2* g_am)\n",
    "        # almost a_0 is constant and only shifts energy origin\n",
    "        # g_cm=2(g_am-g)\n",
    "        \n",
    "        a_0 = (n-1/2)*wc - (1/wm)*((n-1/2)*gcm)**2\n",
    "        # displaced creation and annihilation oprs\n",
    "        q_0 = (n-1/2)*sqrt(2)*(gcm)/omega\n",
    "        b_n = b - q_0/sqrt(2)\n",
    "    \n",
    "        # condition for n=0    .... since for n=0 cos or sin is undefined!\n",
    "        if n !=0:    \n",
    "\n",
    "            epsilon = sqrt(n*(g_ac**2) + (delta_ac**2)/4) * cos(theta) + (gcm) * (-2*g) * (n-1/2)/omega\n",
    "            # g_pol= -2g      ,,, g_pol= g_cm-2g_am \n",
    "            delta   = sqrt(n*(g_ac**2) + (delta_ac**2)/4) * sin(theta)\n",
    "        else:\n",
    "            epsilon = cos(theta) * delta_ac/2.0 + (gcm) * (-2*g) * (-1/2)/omega\n",
    "            delta   = 0.0          \n",
    "\n",
    "        H = a_0*I+ omega * b_n.dag() * b_n + g * newsigma_x * (b_n+ b_n.dag())  + epsilon * newsigma_x + delta * newsigma_z\n",
    "    \n",
    "        evals, ekets = H.eigenstates()\n",
    "        #evals = H.eigenenergies()\n",
    "        evals_mt[idx,:]=np.real(evals)\n",
    "    \n",
    "        idx +=1\n",
    "    return evals_mt\n"
   ]
  },
  {
   "cell_type": "code",
   "execution_count": 12,
   "metadata": {},
   "outputs": [],
   "source": [
    "Nm = 30    # mechanical phonon number \n",
    "delta_ac = 10.2\n",
    "n= 1 #1.0\n",
    "omega= 1.0\n",
    "\n",
    "g_cm = omega/20.0         # cavity-phonon coupling\n",
    "g_am = - omega/40.0       # atom_phonon coupling \n",
    "g_ac = omega /2.0         # cavity-atom coupling\n",
    "g_polr= g_cm- 2* g_am # wm/10.0         # polariton-mechanics coupling\n",
    "\n",
    "#g_list=np.linspace(-8.0,8.0,90) * (-0.5) *g_polr          # g range \n",
    "g_cmlist=np.linspace(0.0,4.0,90) * g_cm          # g range \n",
    "\n",
    "\n",
    "#=============== defining theta and cos(theta), tan(theta)\n",
    "# in the pauli frame the rotation is theta -pi/2 \n",
    "\n",
    "if (delta_ac!=0) and (n !=0): \n",
    "    theta =  (np.arctan(2*sqrt(n)*g_ac/delta_ac)) +  pi/2.0\n",
    "\n",
    "elif (delta_ac==0) and (n !=0): \n",
    "    theta = pi/2.0 + np.arcsin(2*g_ac*sqrt(n)/np.sqrt(4*n*g_ac**2))\n",
    "elif (delta_ac==0) and (n ==0): theta=pi/2      #### ?????\n",
    "\n",
    "######################################\n",
    "######################################\n",
    "evals_mt = Energy_compute(Nm,theta, g_ac, g_am, g_cm, delta_ac, omega, n, g_cmlist)\n"
   ]
  },
  {
   "cell_type": "code",
   "execution_count": 13,
   "metadata": {},
   "outputs": [
    {
     "data": {
      "image/png": "[encoded data removed]",
      "text/plain": [
       "<Figure size 648x432 with 1 Axes>"
      ]
     },
     "metadata": {
      "needs_background": "light"
     },
     "output_type": "display_data"
    }
   ],
   "source": [
    "######################################\n",
    "#    for n=1 and delta_ac = 1.2\n",
    "######################################\n",
    "fig, ax = plt.subplots(1,1, figsize=(9,6))\n",
    "\n",
    "gg= -1/2 * (g_cmlist - 2* g_am)\n",
    "for i in range(1,8):     # range(7)\n",
    "        \n",
    "    #ax.plot(g_aclist , ( E_Gf[:,m]), 'b')    \n",
    "    ax.plot(gg/omega , ((evals_mt[:,i]-evals_mt[:,0])/omega), 'r')\n",
    "#ax.set_ylim([6.7,7.95])\n",
    "ax.set_xlabel('2g_cm/wm',fontsize=14)\n",
    "ax.set_ylabel('Eigenenergies',fontsize=(14))\n",
    "ax.set_title('Energy levels n=1',fontsize=(14));\n",
    "# plt.axis([0, 12, 900, 2500])     # [xmin, xmax, ymin, ymax]"
   ]
  },
  {
   "cell_type": "code",
   "execution_count": 5,
   "metadata": {},
   "outputs": [
    {
     "data": {
      "image/png": "[encoded data removed]",
      "text/plain": [
       "<Figure size 648x432 with 1 Axes>"
      ]
     },
     "metadata": {
      "needs_background": "light"
     },
     "output_type": "display_data"
    }
   ],
   "source": [
    "######################################\n",
    "#    for n=1 and delta_ac = 0\n",
    "######################################\n",
    "fig, ax = plt.subplots(1,1, figsize=(9,6))\n",
    "\n",
    "gg= -1/2 * (g_cmlist - 2* g_am)\n",
    "for i in range(1,8):     # range(7)\n",
    "        \n",
    "    #ax.plot(g_aclist , ( E_Gf[:,m]), 'b')    \n",
    "    ax.plot(gg/omega , ((evals_mt[:,i]-evals_mt[:,0])/omega), 'r')\n",
    "#ax.set_ylim([6.7,7.95])\n",
    "ax.set_xlabel('2g_cm/wm',fontsize=14)\n",
    "ax.set_ylabel('Eigenenergies',fontsize=(14))\n",
    "ax.set_title('Energy levels n=1',fontsize=(14));\n",
    "# plt.axis([0, 12, 900, 2500])     # [xmin, xmax, ymin, ymax]"
   ]
  },
  {
   "cell_type": "code",
   "execution_count": 6,
   "metadata": {},
   "outputs": [
    {
     "ename": "NameError",
     "evalue": "name 'g_list' is not defined",
     "output_type": "error",
     "traceback": [
      "\u001b[1;31m---------------------------------------------------------------------------\u001b[0m",
      "\u001b[1;31mNameError\u001b[0m                                 Traceback (most recent call last)",
      "\u001b[1;32m<ipython-input-6-c5fdb788aea5>\u001b[0m in \u001b[0;36m<module>\u001b[1;34m\u001b[0m\n\u001b[0;32m      6\u001b[0m \u001b[1;33m\u001b[0m\u001b[0m\n\u001b[0;32m      7\u001b[0m     \u001b[1;31m#ax.plot(g_aclist , ( E_Gf[:,m]), 'b')\u001b[0m\u001b[1;33m\u001b[0m\u001b[1;33m\u001b[0m\u001b[1;33m\u001b[0m\u001b[0m\n\u001b[1;32m----> 8\u001b[1;33m     \u001b[0max\u001b[0m\u001b[1;33m.\u001b[0m\u001b[0mplot\u001b[0m\u001b[1;33m(\u001b[0m\u001b[1;36m2\u001b[0m\u001b[1;33m*\u001b[0m\u001b[0mg_list\u001b[0m\u001b[1;33m/\u001b[0m\u001b[0momega\u001b[0m \u001b[1;33m,\u001b[0m \u001b[1;33m(\u001b[0m\u001b[1;33m(\u001b[0m\u001b[0mevals_mt\u001b[0m\u001b[1;33m[\u001b[0m\u001b[1;33m:\u001b[0m\u001b[1;33m,\u001b[0m\u001b[0mm\u001b[0m\u001b[1;33m]\u001b[0m\u001b[1;33m-\u001b[0m\u001b[0mevals_mt\u001b[0m\u001b[1;33m[\u001b[0m\u001b[1;33m:\u001b[0m\u001b[1;33m,\u001b[0m\u001b[1;36m0\u001b[0m\u001b[1;33m]\u001b[0m\u001b[1;33m)\u001b[0m\u001b[1;33m/\u001b[0m\u001b[0momega\u001b[0m\u001b[1;33m)\u001b[0m\u001b[1;33m,\u001b[0m \u001b[1;34m'r'\u001b[0m\u001b[1;33m)\u001b[0m\u001b[1;33m\u001b[0m\u001b[1;33m\u001b[0m\u001b[0m\n\u001b[0m\u001b[0;32m      9\u001b[0m \u001b[1;31m#ax.set_ylim([6.7,7.95])\u001b[0m\u001b[1;33m\u001b[0m\u001b[1;33m\u001b[0m\u001b[1;33m\u001b[0m\u001b[0m\n\u001b[0;32m     10\u001b[0m \u001b[0max\u001b[0m\u001b[1;33m.\u001b[0m\u001b[0mset_xlabel\u001b[0m\u001b[1;33m(\u001b[0m\u001b[1;34m'2g_cm/wm'\u001b[0m\u001b[1;33m,\u001b[0m\u001b[0mfontsize\u001b[0m\u001b[1;33m=\u001b[0m\u001b[1;36m14\u001b[0m\u001b[1;33m)\u001b[0m\u001b[1;33m\u001b[0m\u001b[1;33m\u001b[0m\u001b[0m\n",
      "\u001b[1;31mNameError\u001b[0m: name 'g_list' is not defined"
     ]
    },
    {
     "data": {
      "image/png": "[encoded data removed]",
      "text/plain": [
       "<Figure size 648x432 with 1 Axes>"
      ]
     },
     "metadata": {
      "needs_background": "light"
     },
     "output_type": "display_data"
    }
   ],
   "source": [
    "######################################\n",
    "######################################\n",
    "fig, ax = plt.subplots(1,1, figsize=(9,6))\n",
    "    \n",
    "for m in range(1,18):     # range(7)\n",
    "        \n",
    "    #ax.plot(g_aclist , ( E_Gf[:,m]), 'b')    \n",
    "    ax.plot(2*g_list/omega , ((evals_mt[:,m]-evals_mt[:,0])/omega), 'r')\n",
    "#ax.set_ylim([6.7,7.95])\n",
    "ax.set_xlabel('2g_cm/wm',fontsize=14)\n",
    "ax.set_ylabel('Eigenenergies',fontsize=(14))\n",
    "ax.set_title('Energy levels n=1',fontsize=(14));\n",
    "# plt.axis([0, 12, 900, 2500])     # [xmin, xmax, ymin, ymax]"
   ]
  },
  {
   "cell_type": "code",
   "execution_count": null,
   "metadata": {},
   "outputs": [],
   "source": [
    "#----------------parameters\n",
    "Nc = 8;      #### photons ##\n",
    "Nm = 8;     ## phonon dimension  \n",
    "\n",
    "wm = 1.0                   #  mechanical frequency\n",
    "wc = 100 * wm                  # cavity frequency.... \n",
    "wa = wc                      # resonance case\n",
    "#g_ac = wm/2.0               # atom-cavity coupling strength\n",
    "g_cm = 0.1 * wm               # cavity-resonator coupling\n",
    "g_am = - wm/40.0       # atom_phonon coupling \n",
    "\n",
    "delta_ac = wa - wc        # atom-cavity detuning \n",
    "\n",
    "a = tensor(qeye(Nm),destroy(Nc), qeye(2))     # cavity anihilation operator\n",
    "b = tensor(destroy(Nm),qeye(Nc), qeye(2))      # phonon anihilation opr\n",
    "\n",
    "#sigma_z = tensor(qeye(Nm), qeye(Nc), sigmaz())\n",
    "#sigma_p = tensor(qeye(Nm), qeye(Nc), sigmap())  # raising and lowering ops for atom\n",
    "#sigma_m = tensor(qeye(Nm), qeye(Nc), sigmam())\n",
    "\n",
    "sigma_m = tensor(qeye(Nm), qeye(Nc), destroy(2))\n",
    "sigma_p = sigma_m.dag()  # raising and lowering ops for atom\n",
    "sigma_z = sigma_p*sigma_m-sigma_m*sigma_p\n",
    "\n",
    "g_aclist = np.linspace(0,2.5,60) *wm/2.0         # g_ac range \n",
    "evals_mat = np.zeros((len(g_aclist),2*Nc*Nm))\n",
    "\n",
    "n=1\n",
    "idx = 0\n",
    "for g_ac in g_aclist:\n",
    "   \n",
    "    H = wc * a.dag() * a + wa * sigma_z/2 + wm * b.dag() * b + 1j *  g_ac * (sigma_p * a - sigma_m * a.dag()) -\\\n",
    "        g_cm * a.dag()* a * (b.dag() + b) - g_am * sigma_z * (b.dag() + b)\n",
    "                        \n",
    "    #evals, ekets = H.eigenstates()\n",
    "    evals = H.eigenenergies()\n",
    "    evals_mat[idx,:] = np.real(evals)\n",
    "    \n",
    "    idx +=1"
   ]
  },
  {
   "cell_type": "code",
   "execution_count": null,
   "metadata": {},
   "outputs": [],
   "source": [
    "fig, ax = plt.subplots(figsize=(12,6))\n",
    "\n",
    "for n in range(1,5):\n",
    "    ax.plot(2*g_aclist / (wm), (evals_mat[:,n]-evals_mat[:,0]), 'b')\n",
    "\n",
    "ax.set_xlabel('Energy splitting of atom 1')\n",
    "ax.set_ylabel('Eigenenergies')\n",
    "#ax.set_ylim([-10,0])\n",
    "\n",
    "ax.set_title('Energy spectrum of three coupled qubits');"
   ]
  },
  {
   "cell_type": "code",
   "execution_count": null,
   "metadata": {},
   "outputs": [],
   "source": [
    "Nc = 5     # cavity photon number\n",
    "Nm = 5    # mechanical phonon number \n",
    "\n",
    "#wm= omega     \n",
    "wm=1\n",
    "wc = 100 *wm\n",
    "wa= wc\n",
    "\n",
    "omega= wm\n",
    "delta_ac = wa- wc\n",
    "\n",
    "n= 1 #1.0\n",
    "\n",
    "g_cm = omega/20.0         # cavity-phonon coupling\n",
    "g_am = - omega/40.0       # atom_phonon coupling \n",
    "g_ac = omega /2.0         # cavity-atom coupling\n",
    "g_polr= g_cm- 2* g_am # wm/10.0\n",
    "\n",
    "b = tensor(qeye(Nc),destroy(Nm),qeye(2))\n",
    "\n",
    "sigma_x = tensor(qeye(Nc),qeye(Nm), sigmax())\n",
    "sigma_z = tensor(qeye(Nc),qeye(Nm), sigmaz())\n",
    "I = tensor(qeye(Nc),qeye(Nm),qeye(2))\n",
    "\n",
    "###### theta\n",
    "if delta_ac !=0:\n",
    "    theta = np.arctan(2*sqrt(n)*g_ac/delta_ac)\n",
    "else:\n",
    "    theta = pi/2.0\n",
    "\n",
    "# displaced frame\n",
    "q_0 = (n-1/2)*g_cm*sqrt(2)/wm\n",
    "b_n = b - q_0/sqrt(2)\n"
   ]
  },
  {
   "cell_type": "code",
   "execution_count": null,
   "metadata": {},
   "outputs": [],
   "source": [
    "#writing eq. 5\n",
    "a_0 = (n-1/2) * wc - wm * ((n-1/2) * (g_cm/wm))**2\n",
    "g_aclist = np.linspace(0,2.5,80) * g_ac\n",
    "\n",
    "idx=0\n",
    "evals_mt = np.zeros((len(g_aclist), Nc*Nm*2))\n",
    "for g_ac in g_aclist:\n",
    "    \n",
    "    H_n = I* a_0  + sqrt(n*(g_ac**2) + (delta_ac**2)/4) * sigma_z \\\n",
    "    + wm * b_n.dag() * b_n - (1/2 * g_polr) * (b_n.dag() + b_n - 2* (n-1/2) *g_cm/wm ) \\\n",
    "    * (cos(theta) * sigma_z + sin(theta) * sigma_x) \n",
    "    \n",
    "    evals, ekets = H_n.eigenstates()\n",
    "    evals_mt[idx,:] = np.real(evals)\n",
    "    idx += 1\n"
   ]
  },
  {
   "cell_type": "code",
   "execution_count": null,
   "metadata": {},
   "outputs": [],
   "source": [
    "######################################\n",
    "######################################\n",
    "\n",
    "fig, ax = plt.subplots(1,1, figsize=(9,6))\n",
    "    \n",
    "for m in range(1,15):     # range(7)\n",
    "        ax.plot(2*g_aclist/wm , ((evals_mt[:,m]-evals_mt[:,0])/omega), 'r')\n",
    "\n",
    "#ax.legend(('xy','vt'))\n",
    "ax.set_xlabel('2g_ac/wm',fontsize=14)\n",
    "ax.set_ylabel('Eigenenergies',fontsize=(14))\n",
    "ax.set_title('Energy levels n=1',fontsize=(14));\n",
    "# plt.axis([0, 12, 900, 2500])     # [xmin, xmax, ymin, ymax]"
   ]
  },
  {
   "cell_type": "code",
   "execution_count": null,
   "metadata": {},
   "outputs": [],
   "source": []
  }
 ],
 "metadata": {
  "kernelspec": {
   "display_name": "Python 3",
   "language": "python",
   "name": "python3"
  },
  "language_info": {
   "codemirror_mode": {
    "name": "ipython",
    "version": 3
   },
   "file_extension": ".py",
   "mimetype": "text/x-python",
   "name": "python",
   "nbconvert_exporter": "python",
   "pygments_lexer": "ipython3",
   "version": "3.7.3"
  }
 },
 "nbformat": 4,
 "nbformat_minor": 4
}
