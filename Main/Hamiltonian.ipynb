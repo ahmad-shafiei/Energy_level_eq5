{
 "cells": [
  {
   "cell_type": "markdown",
   "metadata": {},
   "source": [
    "<h1 align=\"center\" style=\"color: #4d7f32;\"> calculations </h1>\n",
    " \n",
    "<h2  style=\"color: #rddfd2;\"> Base on Juan Restrepo's paper- 2017 </h2>\n",
    " \n",
    "Title: \"Fully coupled hybrid cavity optomechanics: Quantum interferences and correlations\""
   ]
  },
  {
   "cell_type": "markdown",
   "metadata": {},
   "source": [
    "<table width=\"100%\"><tr><td style=\"color:#bbbbbb;background-color:#ffffff;font-size:11px;font-style:italic;text-align:right;\">This cell contains some macros. If there is a problem with displaying mathematical formulas, please run this cell to load these macros. </td></tr></table>\n",
    "$ \\newcommand{\\bra}[1]{\\langle #1|} $\n",
    "$ \\newcommand{\\ket}[1]{|#1\\rangle} $\n",
    "$ \\newcommand{\\braket}[2]{\\langle #1|#2\\rangle} $\n",
    "$ \\newcommand{\\dot}[2]{ #1 \\cdot #2} $\n",
    "$ \\newcommand{\\biginner}[2]{\\left\\langle #1,#2\\right\\rangle} $\n",
    "$ \\newcommand{\\mymatrix}[2]{\\left( \\begin{array}{#1} #2\\end{array} \\right)} $\n",
    "$ \\newcommand{\\myvector}[1]{\\mymatrix{c}{#1}} $\n",
    "$ \\newcommand{\\myrvector}[1]{\\mymatrix{r}{#1}} $\n",
    "$ \\newcommand{\\mypar}[1]{\\left( #1 \\right)} $\n",
    "$ \\newcommand{\\mybigpar}[1]{ \\Big( #1 \\Big)} $\n",
    "$ \\newcommand{\\sqrttwo}{\\frac{1}{\\sqrt{2}}} $\n",
    "$ \\newcommand{\\dsqrttwo}{\\dfrac{1}{\\sqrt{2}}} $\n",
    "$ \\newcommand{\\onehalf}{\\frac{1}{2}} $\n",
    "$ \\newcommand{\\donehalf}{\\dfrac{1}{2}} $\n",
    "$ \\newcommand{\\hadamard}{ \\mymatrix{rr}{ \\sqrttwo & \\sqrttwo \\\\ \\sqrttwo & -\\sqrttwo }} $\n",
    "$ \\newcommand{\\vzero}{\\myvector{1\\\\0}} $\n",
    "$ \\newcommand{\\vone}{\\myvector{0\\\\1}} $\n",
    "$ \\newcommand{\\vhadamardzero}{\\myvector{ \\sqrttwo \\\\  \\sqrttwo } } $\n",
    "$ \\newcommand{\\vhadamardone}{ \\myrvector{ \\sqrttwo \\\\ -\\sqrttwo } } $\n",
    "$ \\newcommand{\\myarray}[2]{ \\begin{array}{#1}#2\\end{array}} $\n",
    "$ \\newcommand{\\X}{ \\mymatrix{cc}{0 & 1 \\\\ 1 & 0}  } $\n",
    "$ \\newcommand{\\Z}{ \\mymatrix{rr}{1 & 0 \\\\ 0 & -1}  } $\n",
    "$ \\newcommand{\\Htwo}{ \\mymatrix{rrrr}{ \\frac{1}{2} & \\frac{1}{2} & \\frac{1}{2} & \\frac{1}{2} \\\\ \\frac{1}{2} & -\\frac{1}{2} & \\frac{1}{2} & -\\frac{1}{2} \\\\ \\frac{1}{2} & \\frac{1}{2} & -\\frac{1}{2} & -\\frac{1}{2} \\\\ \\frac{1}{2} & -\\frac{1}{2} & -\\frac{1}{2} & \\frac{1}{2} } } $\n",
    "$ \\newcommand{\\CNOT}{ \\mymatrix{cccc}{1 & 0 & 0 & 0 \\\\ 0 & 1 & 0 & 0 \\\\ 0 & 0 & 0 & 1 \\\\ 0 & 0 & 1 & 0} } $\n",
    "$ \\newcommand{\\norm}[1]{ \\left\\lVert #1 \\right\\rVert } $\n",
    "$ \\newcommand{\\pstate}[1]{ \\lceil \\mspace{-1mu} #1 \\mspace{-1.5mu} \\rfloor } $"
   ]
  },
  {
   "cell_type": "markdown",
   "metadata": {},
   "source": [
    "<img src=\"../images/schematic.jpg\" width=350px>"
   ]
  },
  {
   "cell_type": "markdown",
   "metadata": {},
   "source": [
    "<h2> <font color=\"red\"> Hamiltonian For this fully coupled syestem:</font></h2>\n",
    "\n",
    "$\\large \\hat{H}_{0}=\\omega_{c}\\hat{a}^\\dagger \\hat{a}+ \\tfrac{\\omega_{a}}{2}\\hat{\\sigma}_{z}+ig_{ac}(\\hat{\\sigma}_{+}\\hat{a}-\\hat{\\sigma}_{-}\\hat{a}^\\dagger) -\n",
    " g_{cm}\\hat{a}^\\dagger \\hat{a}(\\hat{b}+\\hat{b}^\\dagger) -\n",
    " g_{am} \\hat{\\sigma}_{z}(\\hat{b}+\\hat{b}^\\dagger)+\\omega_m \\hat{b}^\\dagger \\hat{b}$"
   ]
  },
  {
   "cell_type": "markdown",
   "metadata": {},
   "source": [
    "Basis for uncoupled Hamiltonian are $ (g_{ac}=g_{cm}=g_{am}=0) $ :{ $ \\ket {g,e} \\otimes \\ket{k} \\otimes\\ket{l}\\}_{k,l \\in \\mathbb{N}} $ \n",
    "\n",
    "which here  $ \\ket {g}$ ($ \\ket {e}$) corresponds ground (excited) state in a two-level system, $\\ket{k}$ corresponds to cavity state with $ k $ photons, and $\\ket{l}$ is state with $ l $ phonons in the mechanical resonator. \n",
    "let us introduce polariton number operator \n",
    "The total $ \\hat{H}_0$ commutes with polariton number operator $\\hat{N}_{Polariton}= \\hat{a}^\\dagger\\hat{a}+\\hat{\\sigma}_{+}\\hat{\\sigma}_{-} $ counting the number of photons and atomic excitations inside the cavity. this operator cummuts with total Hamiltonian, $[\\hat{H}_0 , \\hat{N}_{Polariton} ]=0$, which means the two operators share common basis in each subspace containing $n$ polaritons and thus total Hamiltonian in a basis of polariton number operator is <b>block-diagonal </b>. Let first find eigen values and eigen vectors for Jayns-Cumming part of Hamiltonian \n",
    "$$\\hat{H}_{JC}=\\omega_{c}\\hat{a}^\\dagger \\hat{a}+ \\frac{\\omega_{a}}{2}\\hat{\\sigma}_{z}+ig_{ac}(\\hat{\\sigma}_{+}\\hat{a}-\\hat{\\sigma}_{-}\\hat{a}^\\dagger).$$\n",
    "First lets present the hamiltonian in the basis ($\\ket {g,n}, \\ket {e,n-1}, \\forall n \\geq 1 $): \n",
    "$$\n",
    " \\hat{H}_{JC} \\doteq \\mymatrix{cc}{\\bra{g,n}H_{JC}\\ket{g,n} & \\bra{g,n}H_{JC}\\ket{e,n-1}\\\\ \\bra{e,n-1}H_{JC}\\ket{g,n} & \\bra{e,n-1}H_{JC}\\ket{e,n-1} }.\n",
    "$$\n",
    "\n",
    "\n",
    "\n",
    "suppose the Pauli matrices $ \\hat{\\sigma}_{z} \\doteq  \\mymatrix{cc}{-1 & 0\\\\ 0 & 1 } $; $ \\hat{\\sigma}_{y} \\doteq  \\mymatrix{cc}{0 & i\\\\ -i & 0 } $, and $ \\hat{\\sigma}_{+} = \\ket{e}\\bra{g} $;$ \\hat{\\sigma}_{-} = \\ket{g}\\bra{e} $ raising and lowering operators. Atom-cavity detuning is $\\Delta_{ac}=\\omega_a-\\omega_c$\n",
    "\n"
   ]
  },
  {
   "cell_type": "markdown",
   "metadata": {},
   "source": [
    "the $\\hat{H}_{JC}$ can be writen in the following form:\n",
    "$$\n",
    " \\hat{H}_{JC} \\doteq \\mymatrix{cc}{\\omega_{c}(n-\\frac{1}{2})-\\frac{\\Delta_{ac}}{2} & -ig_{ac}\\sqrt{n} \\\\ ig_{ac}\\sqrt{n} & \\omega_{c}(n-\\frac{1}{2})+\\frac{\\Delta_{ac}}{2}}=(n-\\frac{1}{2})\\omega_c \\mathbb{1}+ \\frac{\\Delta{ac}}{2}\\hat{\\sigma}_z - g \\sqrt{n} \\hat{\\sigma}_y.\n",
    "$$"
   ]
  },
  {
   "cell_type": "markdown",
   "metadata": {},
   "source": [
    "> <h4> <font color=\"red\"> Aside: For every $2 \\times 2$ matrix we have:</h3></font>\n",
    "\n",
    "> $\\large A_{2 \\times 2}= \\frac{1}{2}a_0 + \\frac{1}{2} \\vec{a}.\\hat{\\vec{\\sigma}} \\;\\; \\;   \\xrightarrow{Eigenvalues} \\; \\; \n",
    "\\large \\frac{a_0 \\pm |\\vec{a}|} {2}$\n",
    "\n",
    "> Here $\\vec{a}$ is a vector with components {$a_{i}, i=1,2,3$}"
   ]
  },
  {
   "cell_type": "markdown",
   "metadata": {},
   "source": [
    "Finally, the eigenvaluse and eigenvectors are: \n",
    "    \n",
    "<font align=\"center\">Eigenvalues:  ${\\omega}^{(n)}_{\\pm}= (n-\\frac{1}{2}) \\omega_c \\pm \\frac{1}{2} \\sqrt{\\Delta^2_{ac}+ 4n{g}^2_{ac}}$  </font>\n",
    "\n",
    "and corresponding Eigenvectors: \n",
    "\n",
    "$~~~~~~  n=0:  ~\\ket{G}= \\ket{g}\\otimes \\ket{k=0} \\\\   $\n",
    "\n",
    "$~~~ \\forall \\in \\geq 1: ~~~ $\n",
    "\n",
    "$~~~~~~~~~~~~~~~~~~~~\\large \\ket{+^{(n)}}=cos(\\frac{\\phi^{(n)}}{2}) \\ket{g,n} -i sin(\\frac{\\phi^{(n)}}{2})) \\ket{e,n-1} \\\\ $ \n",
    "\n",
    "$~~~~~~~~~~~~~~~~~~~~ \\large \\ket{-^{(n)}}=sin(\\frac{\\phi^{(n)}}{2}) \\ket{g,n} +i cos(\\frac{\\phi^{(n)}}{2})) \\ket{e,n-1}$\n"
   ]
  },
  {
   "cell_type": "markdown",
   "metadata": {},
   "source": [
    "Here $ tan(\\phi^{(n)}=  2 \\sqrt{n}g_{ac} / \\Delta_{ac} $ with $ \\phi^{(n)} \\in [-\\pi / 2 , \\pi / 2] $"
   ]
  },
  {
   "cell_type": "markdown",
   "metadata": {},
   "source": [
    "<h2> <font color=\"blue\"> Diagonalization of total Hamiltonian ($\\hat{H}_{0}$)</font></h2>"
   ]
  },
  {
   "cell_type": "markdown",
   "metadata": {},
   "source": [
    "Lets first represent $ \\hat{a}^ \\dagger \\hat{a}$ in the new basis {$\\ket {\\pm^{(n)}}$}:\n",
    "$$\n",
    "\\hat{a}^ \\dagger \\hat{a}\\doteq \\mymatrix{c} {\\bra{+^{(n)}}\\hat{a}^ \\dagger \\hat{a} \\ket{+^{(n)}}&\\bra{+^{(n)}}\\hat{a}^ \\dagger \\hat{a} \\ket{-^{(n)}} \\\\ \\bra{-^{(n)}}\\hat{a}^ \\dagger \\hat{a} \\ket{+^{(n)}}&\\bra{-^{(n)}}\\hat{a}^ \\dagger \\hat{a} \\ket{-^{(n)}}}\n",
    "$$\n",
    "\n",
    "Then, $ \\hat{a}^ \\dagger \\hat{a}$ in the new basis is\n",
    "\n",
    "$$\n",
    "\\hat{a}^ \\dagger \\hat{a}\\doteq \\large { \\mymatrix{c}  {  n-sin^2 \\frac{\\phi^{(n)}}{2} & \\frac{1}{2} sin\\phi^{(n)} \\\\ \\frac{1}{2} sin\\phi^{(n)} & n-cos^2 \\frac{\\phi^{(n)}}{2}} }\n",
    "$$\n",
    "\n"
   ]
  },
  {
   "cell_type": "markdown",
   "metadata": {},
   "source": [
    "Following same procedure, for $\\hat {\\sigma}_z= \\ket{e} \\bra{e}-\\ket{g} \\bra{g} $ in the basis {$\\ket {\\pm^{(n)}}$}:\n",
    "$$\n",
    "\\hat {\\sigma}_z\\doteq  \\mymatrix{c}  {  -cos\\phi^{(n)} &  -sin\\phi^{(n)} \\\\  -sin\\phi^{(n)} &  cos\\phi^{(n)} \\frac{\\phi^{(n)}}{2}} \n",
    "$$"
   ]
  },
  {
   "cell_type": "markdown",
   "metadata": {},
   "source": [
    "Now, we deffine Pauli matrices and raising and lowering operators in this basis {$\\ket {\\pm^{(n)}}$}:\n",
    "\n",
    "$ {\\sigma_z}^{(n)} \\doteq \\mymatrix{c} {1&0 \\\\ 0&-1}~~ $   ,   $ ~~ {\\sigma}_x^{(n)} \\doteq \\mymatrix{c} {0&1 \\\\ 1&0} ~~$  , \n",
    "$~~~~ {\\sigma}_y^{(n)} \\doteq \\mymatrix{c} {0&-i \\\\ i&0} $\n",
    "\n",
    "$ {\\sigma}_+^{(n)} = \\ket{+^{(n)}} \\bra{-^{(n)}}\\doteq \\mymatrix{c} {0&1 \\\\ 0&0} ~~~~~$\n",
    "$ {\\sigma}_-^{(n)} = \\ket{-^{(n)}} \\bra{+^{(n)}}\\doteq \\mymatrix{c} {0&0\\\\ 1&0} $"
   ]
  },
  {
   "cell_type": "markdown",
   "metadata": {},
   "source": [
    "Taking acount these definitions, $\\hat{H}_{JC}$ can be writen as \n",
    "$$\n",
    " \\hat{H}_{JC} \\doteq \\mymatrix{cc}{\\omega_{c}(n-\\frac{1}{2})-\\frac{\\Delta_{ac}}{2} & -ig_{ac}\\sqrt{n} \\\\ ig_{ac}\\sqrt{n} & \\omega_{c}(n-\\frac{1}{2})+\\frac{\\Delta_{ac}}{2}}=(n-\\frac{1}{2})\\omega_c \\mathbb{1}- \\frac{\\Delta{ac}}{2}\\hat{\\sigma}_z^{(n)} + g \\sqrt{n} \\hat{\\sigma}_y^{(n)}.\n",
    "$$"
   ]
  },
  {
   "cell_type": "markdown",
   "metadata": {},
   "source": [
    "Same for $\\hat {\\sigma}_z$ and $ \\hat{a}^ \\dagger \\hat{a}$,\n",
    "\n",
    "$$\n",
    "\\hat {\\sigma}_z\\doteq  \\mymatrix{c}  {  -cos\\phi^{(n)} &  -sin\\phi^{(n)} \\\\  -sin\\phi^{(n)} &  cos\\phi^{(n)} \\frac{\\phi^{(n)}}{2}} = -cos\\phi^{(n)}{\\sigma_z}^{(n)} -sin\\phi^{(n)}{\\sigma}_x^{(n)}\n",
    "$$\n",
    "\n",
    "$$ \\hat{a}^ \\dagger \\hat{a} =  n \\mathbb{1} + \\frac{1}{2} \\sigma_x^{(n)} - \\mymatrix{c} {sin^2 \\frac {\\phi^{(n)}}{2} &0 \\\\ 0 & cos^2 \\frac{\\phi^{(n)}}{2}} = (n-\\frac{1}{2})\\omega_c \\mathbb{1} + \\frac{1}{2} sin\\phi^{(n)} \\sigma_x^{(n)}+ \\frac{1}{2} cos\\phi^{(n)}\\sigma_z^{(n)}  $$"
   ]
  },
  {
   "cell_type": "markdown",
   "metadata": {},
   "source": [
    "Now we are in position to write $\\hat{H}_{0}$ in the new basis {$\\ket {\\pm^{(n)}}$} as the following\n",
    "\n",
    "$$\n",
    "\\hat{H}^{(n)} = (n-\\frac{1}{2})\\omega_c \\mathbb{1} + \\sqrt{\\frac{\\Delta^2_{ac}}{4}+ng^2_{ac}} \\sigma_z^{(n)}\n",
    "- g_{cm}(n-\\frac{1}{2})(\\hat{b}+\\hat{b}^\\dagger) -  \\frac{1}{2} \\tilde{g}_{pm} \\Big [ sin\\phi^{(n)} \\sigma_x^{(n)}+ cos\\phi^{(n)}\\sigma_z^{(n)}\\Big ]\n",
    "(\\hat{b}+\\hat{b}^\\dagger) + \\omega_m \\hat{b}^\\dagger \\hat{b}\n",
    "$$\n",
    "\n"
   ]
  },
  {
   "cell_type": "markdown",
   "metadata": {},
   "source": [
    "Where $\\tilde{g}_{pm} =g_{cm}-2g_{am} $ define as polariton-mechanics coupling. "
   ]
  },
  {
   "cell_type": "markdown",
   "metadata": {},
   "source": [
    "The third term in the $\\hat{H}^{(n)}$ can be originated from a constant force apply on the mechanical resonator. In order to absorb this term, we define new equilibrium position of the mechanical resonator to $q_0 ^{(n)}=\\sqrt{2}(n-1/2)g_{cm}/\\omega_m$.\n",
    "This is possible by defining displaced creation and annihilation operators as following\n",
    "$$\n",
    "\\hat{b}_{n} ^ \\dagger = \\hat{b}^ \\dagger - \\frac{q_0 ^{(n)}}{\\sqrt{2}}, ~~~~~~~\n",
    "\\hat{b}_{n} = b^ \\dagger - \\frac{q_0 ^{(n)}}{\\sqrt{2}}\n",
    "$$\n"
   ]
  },
  {
   "cell_type": "markdown",
   "metadata": {},
   "source": [
    "$\\hat{H}^{(n)}$ in displaced frame is \n",
    "\n",
    "$$\n",
    "\\hat{H}^{(n)} = (n-1/2)\\omega_c \\mathbb{1} -\\omega_m (n-1/2)^2  {\\large(\\frac{g_{cm}}{\\omega_m})}^2+ \\sqrt{\\frac{\\Delta^2_{ac}}{4}+ng^2_{ac}} \\sigma_z^{(n)} + \\omega_m \\hat{b}^\\dagger \\hat{b}-\\frac{1}{2} \\tilde{g}_{pm} \\Big[\\hat{b}+\\hat{b}^\\dagger- \\frac{2g_{cm}}{\\omega_m}(n-1/2) \\Big ] \\Big [sin\\phi^{(n)} \\sigma_x^{(n)}+ cos\\phi^{(n)}\\sigma_z^{(n)}\\Big ]\n",
    "$$"
   ]
  },
  {
   "cell_type": "markdown",
   "metadata": {},
   "source": [
    "This Hamiltonian is written in {$\\ket {\\pm^{(n)}}, \\ket{m^{(n)}}$} basis which $\\ket{m^{(n)}}$ is Fock state corresponds to m phonon in the displaced mechanical resonator. \n",
    "\n"
   ]
  },
  {
   "cell_type": "markdown",
   "metadata": {},
   "source": [
    "<h3> <font color=\"blue\"> Solutions for $\\hat{H}^{(n)}$ and Generelized Rabi model </font></h3>\n",
    "\n",
    "We can represent $\\hat{H}^{(n)}$ in the form of Generelized Rabi model and according to [ref] this hamiltonian is solvable. \n",
    "The Generelized form of Rabi is as following\n",
    "\n",
    "$$\n",
    "\\large {\n",
    "\\hat{H}_{GR}= \\omega \\hat{a}^\\dagger \\hat{a}+ g \\hat{\\sigma}_x (\\hat{a}+ \\hat{a}^\\dagger) + \\epsilon \\sigma_x + \\Delta \\sigma_z\n",
    "}\n",
    "$$\n",
    "\n",
    "We aim to write $\\hat{H}^{(n)}$ in the form of $ \\hat{H}_{GR}$. \n",
    "\n",
    "Using a rotation operator ($ \\hat{D}_a (\\Theta)= exp(-i\\dfrac{\\Theta}{2} \\hat{e}_a . \\hat{\\sigma})$), Pauli matrices can be written in rotated frame:\n",
    "\n",
    "$\\hat\\sigma'_x \\longrightarrow \\hat{D}_y (\\Theta)  \\hat{\\sigma}_x   \\hat{D}_y (\\Theta)=\n",
    "\\hat{\\sigma}_x cos(\\Theta)- \\hat{\\sigma}_z sin(\\Theta)$\n",
    "\n",
    "$\\hat\\sigma'_z \\longrightarrow \\hat{D}_y (\\Theta)  \\hat{\\sigma}_z   \\hat{D}_y (\\Theta)=\n",
    "\\hat{\\sigma}_z cos(\\Theta)+ \\hat{\\sigma}_x sin(\\Theta)$"
   ]
  },
  {
   "cell_type": "markdown",
   "metadata": {},
   "source": [
    "Substututing $\\Theta = \\phi - \\pi/2$ rsults are\n",
    "\n",
    "$$\n",
    "\\hat\\sigma'_x =\\hat{\\sigma}_x sin(\\phi)+\\hat{\\sigma}_z cos(\\theta) \\\\\n",
    "\\hat\\sigma'_z =\\hat{\\sigma}_z sin(\\phi)-\\hat{\\sigma}_x cos(\\theta)\n",
    "$$\n",
    "\n",
    "and thus straightforwardly\n",
    "$\\hat\\sigma_z =\\hat{\\sigma}'_x cos(\\phi)-\\hat{\\sigma}'_z sin(\\theta)$\n",
    "\n"
   ]
  },
  {
   "cell_type": "markdown",
   "metadata": {},
   "source": [
    "Finally, to express $\\hat{H}^{(n)}$  in the form of generalize Rabi form, we define these expressions:\n",
    "\n",
    "$\n",
    "g=- \\dfrac{1}{2} \\tilde{g}_{pm}~,~~~~~~~~~ \\Delta= \\sqrt{\\dfrac{\\Delta^2_{ac}}{4}+ng^2_{ac}}~~sin(\\phi) \n",
    "~,~~~~~~~~~  \\epsilon= \\sqrt{\\dfrac{\\Delta^2_{ac}}{4}+ng^2_{ac}}~~cos(\\phi)+ \\dfrac{g_{cm}{g}_{pm}}{\\omega_m}(n-\\dfrac{1}{2})\n",
    "$\n"
   ]
  },
  {
   "cell_type": "markdown",
   "metadata": {},
   "source": [
    "<h3> Eigen values </h3>"
   ]
  },
  {
   "cell_type": "markdown",
   "metadata": {},
   "source": [
    "[Eigen Values simulations](EigenValues.ipynb)"
   ]
  },
  {
   "cell_type": "code",
   "execution_count": null,
   "metadata": {},
   "outputs": [],
   "source": []
  }
 ],
 "metadata": {
  "kernelspec": {
   "display_name": "Python 3",
   "language": "python",
   "name": "python3"
  },
  "language_info": {
   "codemirror_mode": {
    "name": "ipython",
    "version": 3
   },
   "file_extension": ".py",
   "mimetype": "text/x-python",
   "name": "python",
   "nbconvert_exporter": "python",
   "pygments_lexer": "ipython3",
   "version": "3.7.3"
  }
 },
 "nbformat": 4,
 "nbformat_minor": 4
}
