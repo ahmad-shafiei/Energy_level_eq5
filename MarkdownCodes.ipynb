{
 "cells": [
  {
   "cell_type": "markdown",
   "metadata": {},
   "source": [
    "<h2> Some useful markdown <font color=\"red\">codes </font></h2> "
   ]
  },
  {
   "cell_type": "markdown",
   "metadata": {},
   "source": [
    "### heading"
   ]
  },
  {
   "cell_type": "markdown",
   "metadata": {},
   "source": [
    "code section \n",
    "\n",
    "<code> x=5 this is a code </code>\n",
    "    \n",
    "Blockquotes\n",
    "    \n",
    "> this is nice"
   ]
  },
  {
   "cell_type": "markdown",
   "metadata": {},
   "source": [
    "break line \n",
    "<br>"
   ]
  },
  {
   "cell_type": "markdown",
   "metadata": {},
   "source": [
    "<br>"
   ]
  },
  {
   "cell_type": "markdown",
   "metadata": {},
   "source": [
    "<b> bold  </b>\n",
    "\n",
    "<i> italic </i>"
   ]
  },
  {
   "cell_type": "markdown",
   "metadata": {},
   "source": [
    "horizantal line \n",
    "<hr> </hr>\n",
    "\n",
    "or \n",
    "\n",
    "---"
   ]
  },
  {
   "cell_type": "markdown",
   "metadata": {},
   "source": [
    "Ordered list \n",
    "<ol>\n",
    "    <li> fish </li>\n",
    "    <li> cat </li>\n",
    "    <li> bozi </li>\n",
    "</ol>\n",
    "\n",
    "Unordered list\n",
    "\n",
    "- fish \n",
    "- cat \n",
    "\n",
    " or \n",
    " \n",
    "* fish \n",
    "* cat"
   ]
  },
  {
   "cell_type": "markdown",
   "metadata": {},
   "source": [
    "## internal link \n",
    "\n",
    "[Section list ](#division_ID)\n",
    "\n",
    "\n",
    "## external link \n",
    "\n",
    "<a href=\"https://www.google.com\"> Link to Google </a>\n"
   ]
  },
  {
   "cell_type": "markdown",
   "metadata": {},
   "source": [
    "## tables\n",
    "\n",
    "\n",
    "## insert image "
   ]
  },
  {
   "cell_type": "code",
   "execution_count": null,
   "metadata": {},
   "outputs": [],
   "source": []
  }
 ],
 "metadata": {
  "kernelspec": {
   "display_name": "Python 3",
   "language": "python",
   "name": "python3"
  },
  "language_info": {
   "codemirror_mode": {
    "name": "ipython",
    "version": 3
   },
   "file_extension": ".py",
   "mimetype": "text/x-python",
   "name": "python",
   "nbconvert_exporter": "python",
   "pygments_lexer": "ipython3",
   "version": "3.7.3"
  }
 },
 "nbformat": 4,
 "nbformat_minor": 4
}
