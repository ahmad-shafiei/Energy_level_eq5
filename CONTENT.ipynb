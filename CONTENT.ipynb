{
 "cells": [
  {
   "cell_type": "markdown",
   "metadata": {},
   "source": [
    "<h1 align=\"center\" style=\"color: #4726BC;\"> Hybrid system: cavity-atom-resonator</h2>"
   ]
  },
  {
   "cell_type": "markdown",
   "metadata": {},
   "source": [
    "<h2  style=\"color: #8AB0AD;\"> Content </h2>"
   ]
  },
  {
   "cell_type": "markdown",
   "metadata": {},
   "source": [
    "\n",
    "### Description\n",
    "\n",
    "\n",
    "[Calculations and results](Main/Hamiltonian.ipynb) &nbsp;|&nbsp;\n",
    "\n",
    "### Energy levels\n",
    "\n",
    "[Equation 5- Fig.2: detuned case and as function of $g_{ac}$ ](Main/Energy_Level_Eq5_Fig2.ipynb) &nbsp;|&nbsp;\n",
    "[Energy levels for $H_{GR}$](Main/EigenValues.ipynb) &nbsp;|&nbsp;\n",
    "\n",
    "\n",
    "---\n"
   ]
  },
  {
   "cell_type": "markdown",
   "metadata": {},
   "source": [
    "#### in progress...\n",
    "\n",
    "[not copmlete](source) &nbsp;|&nbsp;\n",
    "[2]() &nbsp;|&nbsp;\n",
    "[Conditionals]() &nbsp;|&nbsp;\n",
    "[Lists]()\n",
    "\n",
    "#### Basic ...\n",
    "[not copmlete](source) &nbsp;|&nbsp;\n",
    "[2]() &nbsp;|&nbsp;\n",
    "[Conditionals]() &nbsp;|&nbsp;\n",
    "[Lists]()\n",
    "\n",
    "\n",
    "#### Basics of ... systems\n",
    "\n",
    "\n",
    "\n",
    "####  (circuit)\n",
    "\n",
    "\n",
    "\n",
    "#### Quantum correlation (entanglement)\n",
    "\n"
   ]
  },
  {
   "cell_type": "markdown",
   "metadata": {},
   "source": [
    "<h3 style=\"color: #cd7f32;\" align=\"center\"> P </h1>\n",
    "\n",
    "*other:\n",
    "1 (<font size=\"+1\" color=\"7777ee\">&#9733;</font>), \n",
    "2 (<font size=\"+1\" color=\"7777ee\">&#9733;&#9733;</font>), and\n",
    "3 (<font size=\"+1\" color=\"7777ee\">&#9733;&#9733;&#9733;</font>).*\n",
    "\n",
    "<font size=\"+1\" color=\"7777ee\">&nbsp;&nbsp;&nbsp;&nbsp;&nbsp;&nbsp;&#9733;</font> |\n",
    "[1](source1) *one*\n",
    "<br>\n",
    "<font size=\"+1\" color=\"7777ee\">&nbsp;&nbsp;&nbsp;&nbsp;&nbsp;&nbsp;&#9733;</font> |\n",
    "[2](source2) *two*\n",
    "<br>\n",
    "<font size=\"+1\" color=\"7777ee\">&nbsp;&nbsp;&nbsp;&#9734;&#9733;</font> |\n",
    "[3](source2)\n",
    "<br>\n",
    "<font size=\"+1\" color=\"7777ee\">&nbsp;&nbsp;&nbsp;&#9733;&#9733;</font> |\n",
    "[4](source2)\n",
    "<br>\n",
    "<font size=\"+1\" color=\"7777ee\">&nbsp;&nbsp;&nbsp;&#9733;&#9733;</font> |\n",
    "[5](source2)\n",
    "<br>\n",
    "<font size=\"+1\" color=\"7777ee\">&#9734;&#9733;&#9733;</font> |\n",
    "[6](source2)\n",
    "<br>\n",
    "<font size=\"+1\" color=\"7777ee\">&#9733;&#9733;&#9733;</font> |\n",
    "[7](source2)"
   ]
  },
  {
   "cell_type": "code",
   "execution_count": null,
   "metadata": {},
   "outputs": [],
   "source": []
  }
 ],
 "metadata": {
  "kernelspec": {
   "display_name": "Python 3",
   "language": "python",
   "name": "python3"
  },
  "language_info": {
   "codemirror_mode": {
    "name": "ipython",
    "version": 3
   },
   "file_extension": ".py",
   "mimetype": "text/x-python",
   "name": "python",
   "nbconvert_exporter": "python",
   "pygments_lexer": "ipython3",
   "version": "3.7.3"
  }
 },
 "nbformat": 4,
 "nbformat_minor": 2
}
